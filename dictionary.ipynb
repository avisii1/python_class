{
 "cells": [
  {
   "cell_type": "code",
   "execution_count": 2,
   "id": "aee5dc94",
   "metadata": {},
   "outputs": [
    {
     "name": "stdout",
     "output_type": "stream",
     "text": [
      "<class 'dict'>\n"
     ]
    }
   ],
   "source": [
    "student_detail = {}\n",
    "# student_detail = dict()\n",
    "print(type(student_detail))"
   ]
  },
  {
   "cell_type": "code",
   "execution_count": 6,
   "id": "67e9e2c4",
   "metadata": {},
   "outputs": [
    {
     "name": "stdout",
     "output_type": "stream",
     "text": [
      "{'name': 'avishek', 'age': 21, 'mark': 33, 'address': ['ktm', 'pokhara']}\n"
     ]
    }
   ],
   "source": [
    "std = {\n",
    "    'name':'avishek',\n",
    "    'age':21,\n",
    "    'mark':33,\n",
    "    'address':['ktm','pokhara']\n",
    "}\n",
    "print(std)"
   ]
  },
  {
   "cell_type": "code",
   "execution_count": 8,
   "id": "29346d1c",
   "metadata": {},
   "outputs": [
    {
     "name": "stdout",
     "output_type": "stream",
     "text": [
      "avishek\n"
     ]
    }
   ],
   "source": [
    "print(std['name'])"
   ]
  },
  {
   "cell_type": "code",
   "execution_count": 9,
   "id": "e497f020",
   "metadata": {},
   "outputs": [
    {
     "name": "stdout",
     "output_type": "stream",
     "text": [
      "dict_keys(['name', 'age', 'mark', 'address'])\n"
     ]
    }
   ],
   "source": [
    "print(std.keys())"
   ]
  },
  {
   "cell_type": "code",
   "execution_count": 10,
   "id": "98568009",
   "metadata": {},
   "outputs": [
    {
     "name": "stdout",
     "output_type": "stream",
     "text": [
      "dict_values(['avishek', 21, 33, ['ktm', 'pokhara']])\n"
     ]
    }
   ],
   "source": [
    "print(std.values())"
   ]
  },
  {
   "cell_type": "code",
   "execution_count": null,
   "id": "18db876d",
   "metadata": {},
   "outputs": [],
   "source": []
  }
 ],
 "metadata": {
  "kernelspec": {
   "display_name": "Python 3 (ipykernel)",
   "language": "python",
   "name": "python3"
  },
  "language_info": {
   "codemirror_mode": {
    "name": "ipython",
    "version": 3
   },
   "file_extension": ".py",
   "mimetype": "text/x-python",
   "name": "python",
   "nbconvert_exporter": "python",
   "pygments_lexer": "ipython3",
   "version": "3.11.1"
  }
 },
 "nbformat": 4,
 "nbformat_minor": 5
}
