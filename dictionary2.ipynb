{
 "cells": [
  {
   "cell_type": "code",
   "execution_count": 1,
   "id": "6674d23c",
   "metadata": {},
   "outputs": [
    {
     "name": "stdout",
     "output_type": "stream",
     "text": [
      "{'science_std': {'name': 'ram', 'age': 22, 'marks': 66}, 'arts_std': {'name': 'shyam', 'age': 22, 'marks': 80}}\n"
     ]
    }
   ],
   "source": [
    "# nested dictionary\n",
    "student={\n",
    "    'science_std':{\n",
    "        'name':'ram',\n",
    "        'age':22,\n",
    "        'marks':66\n",
    "    },\n",
    "    'arts_std':{\n",
    "        'name':'shyam',\n",
    "        'age':22,\n",
    "        'marks':80\n",
    "    }\n",
    "}\n",
    "print(student)"
   ]
  },
  {
   "cell_type": "code",
   "execution_count": 3,
   "id": "594618ac",
   "metadata": {},
   "outputs": [
    {
     "name": "stdout",
     "output_type": "stream",
     "text": [
      "{'name': 'ram', 'age': 22, 'marks': 66}\n"
     ]
    }
   ],
   "source": [
    "print(student['science_std'])"
   ]
  },
  {
   "cell_type": "code",
   "execution_count": 4,
   "id": "ebff466d",
   "metadata": {},
   "outputs": [
    {
     "name": "stdout",
     "output_type": "stream",
     "text": [
      "shyam\n"
     ]
    }
   ],
   "source": [
    "print(student['arts_std']['name'])"
   ]
  },
  {
   "cell_type": "code",
   "execution_count": 6,
   "id": "81e2b578",
   "metadata": {},
   "outputs": [
    {
     "name": "stdout",
     "output_type": "stream",
     "text": [
      "{0: 'math', 1: 'science', 2: 'arts'}\n"
     ]
    }
   ],
   "source": [
    "subject={\n",
    "    0:'math',\n",
    "    1:'science',\n",
    "    2:'arts'\n",
    "}\n",
    "print(subject)"
   ]
  },
  {
   "cell_type": "code",
   "execution_count": 7,
   "id": "94f340f7",
   "metadata": {},
   "outputs": [
    {
     "name": "stdout",
     "output_type": "stream",
     "text": [
      "dict_keys([0, 1, 2])\n"
     ]
    }
   ],
   "source": [
    "print(subject.keys())"
   ]
  },
  {
   "cell_type": "code",
   "execution_count": 8,
   "id": "675bfb74",
   "metadata": {},
   "outputs": [
    {
     "name": "stdout",
     "output_type": "stream",
     "text": [
      "dict_values(['math', 'science', 'arts'])\n"
     ]
    }
   ],
   "source": [
    "print(subject.values())"
   ]
  },
  {
   "cell_type": "code",
   "execution_count": 10,
   "id": "92f6c45f",
   "metadata": {},
   "outputs": [
    {
     "name": "stdout",
     "output_type": "stream",
     "text": [
      "{'name': 'ram', 'age': 22, 'marks': 77}\n"
     ]
    }
   ],
   "source": [
    "list1 = ['name','age','marks']\n",
    "list2= ['ram',22,77]\n",
    "res = zip(list1,list2) # zip le chai 2 ota list ko same first index lei ekei thau rakhxa ma rakhxa and so on\n",
    "data = dict(res)\n",
    "print(data)"
   ]
  },
  {
   "cell_type": "code",
   "execution_count": 16,
   "id": "ab286e81",
   "metadata": {
    "scrolled": true
   },
   "outputs": [
    {
     "name": "stdout",
     "output_type": "stream",
     "text": [
      "ram shyam hari gita rita sita mita \n",
      "<class 'str'>\n",
      "['ram', 'shyam', 'hari', 'gita', 'rita', 'sita', 'mita']\n",
      "<class 'list'>\n",
      "Enter the string to check: ita\n",
      "not found\n"
     ]
    }
   ],
   "source": [
    "string = 'ram shyam hari gita rita sita mita '\n",
    "print(string)\n",
    "print(type(string)) # string class\n",
    "string = string.split() # split le chai string ma vako harek word lei list ko element banauxa\n",
    "print(string)\n",
    "print(type(string)) # list class\n",
    "c_string=input(\"Enter the string to check: \")\n",
    "if c_string in string:\n",
    "    print(\"match found\")\n",
    "else:\n",
    "    print(\"not found\")"
   ]
  },
  {
   "cell_type": "code",
   "execution_count": 15,
   "id": "bae0c598",
   "metadata": {},
   "outputs": [
    {
     "name": "stdout",
     "output_type": "stream",
     "text": [
      "ram shyam hari gita rita sita mita \n",
      "ram shyam hari gita rita sita mita \n",
      "Enter the string to check: a\n",
      "match found\n"
     ]
    }
   ],
   "source": [
    "# yedi split function use nagareko vaye word vitra ko kunei letter lekhey nih found vanxa\n",
    "string = 'ram shyam hari gita rita sita mita '\n",
    "print(string)\n",
    "# string = string.split() # split le chai string ma vako harek word lei list ko element banauxa\n",
    "print(string)\n",
    "c_string=input(\"Enter the string to check: \")\n",
    "if c_string in string:\n",
    "    print(\"match found\")\n",
    "else:\n",
    "    print(\"not found\")"
   ]
  },
  {
   "cell_type": "code",
   "execution_count": null,
   "id": "ea9a0531",
   "metadata": {},
   "outputs": [],
   "source": []
  }
 ],
 "metadata": {
  "kernelspec": {
   "display_name": "Python 3 (ipykernel)",
   "language": "python",
   "name": "python3"
  },
  "language_info": {
   "codemirror_mode": {
    "name": "ipython",
    "version": 3
   },
   "file_extension": ".py",
   "mimetype": "text/x-python",
   "name": "python",
   "nbconvert_exporter": "python",
   "pygments_lexer": "ipython3",
   "version": "3.11.1"
  }
 },
 "nbformat": 4,
 "nbformat_minor": 5
}
