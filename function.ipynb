{
 "cells": [
  {
   "cell_type": "code",
   "execution_count": 3,
   "id": "00be2053",
   "metadata": {},
   "outputs": [
    {
     "name": "stdout",
     "output_type": "stream",
     "text": [
      "2 3\n"
     ]
    }
   ],
   "source": [
    "def fun(a,b,c = None):\n",
    "    print(a,b)\n",
    "fun(2,3)"
   ]
  },
  {
   "cell_type": "code",
   "execution_count": 4,
   "id": "8ddb9efd",
   "metadata": {},
   "outputs": [
    {
     "name": "stdout",
     "output_type": "stream",
     "text": [
      "1 2 3\n",
      "<class 'tuple'>\n"
     ]
    }
   ],
   "source": [
    "def add(a,b):\n",
    "    c = a +b\n",
    "    return a, b, c\n",
    "res = add(1,2)\n",
    "n1 , n2 , n3 = res\n",
    "print( n1 , n2 , n3)\n",
    "print(type(res))"
   ]
  },
  {
   "cell_type": "code",
   "execution_count": 5,
   "id": "e37603f2",
   "metadata": {},
   "outputs": [
    {
     "name": "stdout",
     "output_type": "stream",
     "text": [
      "(1, 2, 3, 4, 5)\n",
      "1\n",
      "2\n",
      "3\n",
      "4\n",
      "5\n",
      "(1, 2)\n",
      "1\n",
      "2\n",
      "('ram', 'sita')\n",
      "ram\n",
      "sita\n"
     ]
    }
   ],
   "source": [
    "def fun1(*args):\n",
    "    print(args)\n",
    "    for i in args:\n",
    "        print(i)\n",
    "fun1(1,2,3,4,5)\n",
    "fun1(1,2)\n",
    "fun1('ram','sita')"
   ]
  },
  {
   "cell_type": "code",
   "execution_count": 11,
   "id": "364c374f",
   "metadata": {},
   "outputs": [
    {
     "name": "stdout",
     "output_type": "stream",
     "text": [
      "{'name': 'ram', 'age': 22}\n",
      "<class 'dict'>\n",
      "name:ram\n",
      "age:22\n"
     ]
    }
   ],
   "source": [
    "# kwargs keyword arguments , argument key-value pair ma dina milxa\n",
    "def fun2(**kwargs):\n",
    "    print(kwargs)\n",
    "    print(type(kwargs))\n",
    "    for key,value in kwargs.items():\n",
    "        print(f\"{key}:{value}\")\n",
    "fun2(name='ram',age=22)"
   ]
  },
  {
   "cell_type": "code",
   "execution_count": null,
   "id": "362be164",
   "metadata": {},
   "outputs": [],
   "source": []
  }
 ],
 "metadata": {
  "kernelspec": {
   "display_name": "Python 3 (ipykernel)",
   "language": "python",
   "name": "python3"
  },
  "language_info": {
   "codemirror_mode": {
    "name": "ipython",
    "version": 3
   },
   "file_extension": ".py",
   "mimetype": "text/x-python",
   "name": "python",
   "nbconvert_exporter": "python",
   "pygments_lexer": "ipython3",
   "version": "3.11.1"
  }
 },
 "nbformat": 4,
 "nbformat_minor": 5
}
